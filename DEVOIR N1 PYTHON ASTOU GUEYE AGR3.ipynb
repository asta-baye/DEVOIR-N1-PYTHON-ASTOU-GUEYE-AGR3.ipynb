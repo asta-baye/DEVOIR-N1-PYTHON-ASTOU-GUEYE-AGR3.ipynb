{
 "cells": [
  {
   "cell_type": "markdown",
   "metadata": {},
   "source": [
    "# EXERCICE 1"
   ]
  },
  {
   "cell_type": "code",
   "execution_count": 1,
   "metadata": {},
   "outputs": [
    {
     "name": "stdout",
     "output_type": "stream",
     "text": [
      "[2, 4, 6, 8, 10, 12, 14, 16, 18, 20]\n"
     ]
    }
   ],
   "source": [
    "#1.Ecrivez un programme qui cree une liste de nombre de 1 à 10 et affiche chaque nombre mutiplié par 2\n",
    "liste_multi=[]\n",
    "for i in range(1,11):\n",
    "    multi=i*2\n",
    "    liste_multi.append(multi)\n",
    "print(liste_multi)"
   ]
  },
  {
   "cell_type": "code",
   "execution_count": 2,
   "metadata": {},
   "outputs": [
    {
     "name": "stdout",
     "output_type": "stream",
     "text": [
      "4\n",
      "3\n",
      "5\n"
     ]
    }
   ],
   "source": [
    "#2.creez une liste de nom et affichez la longueur de chaque nom en utulisant une boucle\n",
    "ma_liste=[\"aicha\", \"awa\", \"astou\"]\n",
    "for i in ma_liste:\n",
    "    print(len(i))"
   ]
  },
  {
   "cell_type": "code",
   "execution_count": 5,
   "metadata": {},
   "outputs": [
    {
     "name": "stdout",
     "output_type": "stream",
     "text": [
      "[4, 36, 81]\n"
     ]
    }
   ],
   "source": [
    "#2.une fonctiont qui prend une liste de nombre en entree et renvoie la liste contenant le carre de chaque element\n",
    "def carres10Pour(liste):\n",
    "    liste_carres=[]\n",
    "    for i in liste:\n",
    "        liste_carres.append(i**2)\n",
    "    return liste_carres\n",
    "print(carres10Pour([2,6,9]))"
   ]
  },
  {
   "cell_type": "code",
   "execution_count": 6,
   "metadata": {},
   "outputs": [
    {
     "name": "stdout",
     "output_type": "stream",
     "text": [
      "8\n",
      "10\n",
      "11\n"
     ]
    }
   ],
   "source": [
    "#4.une liste de nombres aleatoires et affichez seulement les nombres qui sont superieurs à 5 \n",
    "import random \n",
    "liste=[random.randint(0,11) for i in range(10)]\n",
    "for i in liste:\n",
    "    if i>5:\n",
    "        print(i)"
   ]
  },
  {
   "cell_type": "code",
   "execution_count": 7,
   "metadata": {},
   "outputs": [
    {
     "name": "stdout",
     "output_type": "stream",
     "text": [
      "taropg\n"
     ]
    }
   ],
   "source": [
    "#5.un programme qui prend une chaine de caractéres en entree et affiche la plus longue \n",
    "liste_carac=[\"droit\",\"taropg\",\"troid\", \"tre\"]\n",
    "print(max(liste_carac, key=len))"
   ]
  },
  {
   "cell_type": "markdown",
   "metadata": {},
   "source": [
    "# EXERCICE 2"
   ]
  },
  {
   "cell_type": "code",
   "execution_count": 9,
   "metadata": {},
   "outputs": [
    {
     "name": "stdout",
     "output_type": "stream",
     "text": [
      "[5]\n"
     ]
    }
   ],
   "source": [
    "#1.une fonction qui prend deux listes en entree et renvoie une nouvelle liste contenant les elements commun aux deux listes\n",
    "def elemcommun(liste1, liste2):\n",
    "    liste1=set(liste1)&set(liste2)\n",
    "    return list(liste1)\n",
    "\n",
    "print(elemcommun([5,6], [2,5]))"
   ]
  },
  {
   "cell_type": "code",
   "execution_count": 10,
   "metadata": {},
   "outputs": [
    {
     "name": "stdout",
     "output_type": "stream",
     "text": [
      "veuiller donner un nombre: 4\n",
      "4 est paire\n"
     ]
    }
   ],
   "source": [
    "#2.une fonction qui prend un nombre en entree et rnvoie pair ou impair\n",
    "def pairimpair():\n",
    "    n=int(input(\"veuiller donner un nombre: \"))\n",
    "    if (n % 2)==0:\n",
    "        print(\"{0} est paire\".format(n))\n",
    "    else:\n",
    "        print(\"{0} est impaire\".format(n))\n",
    "pairimpair ()"
   ]
  },
  {
   "cell_type": "code",
   "execution_count": 12,
   "metadata": {},
   "outputs": [
    {
     "name": "stdout",
     "output_type": "stream",
     "text": [
      "19\n"
     ]
    }
   ],
   "source": [
    "#3.somme de tous les elements\n",
    "def somme_element(liste):\n",
    "    somme=0\n",
    "    for i in liste:\n",
    "        somme=somme + i\n",
    "    return somme\n",
    "print(somme_element([1, 2, 3, 5, 8]))"
   ]
  },
  {
   "cell_type": "code",
   "execution_count": 13,
   "metadata": {},
   "outputs": [
    {
     "name": "stdout",
     "output_type": "stream",
     "text": [
      "['c', 'a', 'i', 'm', 'n', 'c', 'm']\n"
     ]
    }
   ],
   "source": [
    "#4.une fonction qui prend une liste de lots en entree et renvoie une nouvelle liste contenant la premiere lettre de chaque mot\n",
    "def premierlettre(liste):\n",
    "    print([i[0] for i in liste])\n",
    "premierlettre([\"chevre\",\"astou\",\"ibou\",\"mass\",\"nous\",\"cochon\",\"mary\"])"
   ]
  },
  {
   "cell_type": "markdown",
   "metadata": {},
   "source": [
    "# EXERCICE 3"
   ]
  },
  {
   "cell_type": "code",
   "execution_count": 14,
   "metadata": {},
   "outputs": [
    {
     "name": "stdout",
     "output_type": "stream",
     "text": [
      "4.0\n"
     ]
    }
   ],
   "source": [
    "#1.une liste de nombres et une fonction qui renvoie la mediane de cette liste\n",
    "from statistics import median\n",
    "liste = [1, 5, 3, 6]\n",
    "print(median(liste))"
   ]
  },
  {
   "cell_type": "code",
   "execution_count": 15,
   "metadata": {},
   "outputs": [
    {
     "name": "stdout",
     "output_type": "stream",
     "text": [
      "['ALIMENT', 'ACHETE']\n"
     ]
    }
   ],
   "source": [
    "#2.une fonction qui prend une liste de chaines de caracteres en entree et renvoie une nouvelle liste contenant seulement les chaines de plus de 5 caracteres\n",
    "def liste_caracteres(liste):\n",
    "    return [i for i in liste if len(i)>5]\n",
    "print(liste_caracteres([\"ALIMENT\",\"MANGE\",\"ACHETE\"]))"
   ]
  },
  {
   "cell_type": "code",
   "execution_count": 16,
   "metadata": {},
   "outputs": [
    {
     "name": "stdout",
     "output_type": "stream",
     "text": [
      "3.0\n"
     ]
    }
   ],
   "source": [
    "#3.une liste de nombre et ecrire un programme qui calcule la moyenne de ces nombre sans utiliser la fonction sum\n",
    "liste_nombre=[1,2,3,4,5]\n",
    "somme=0\n",
    "for i in liste_nombre:\n",
    "    somme=somme+i\n",
    "print(somme/len(liste_nombre))\n",
    "    "
   ]
  },
  {
   "cell_type": "code",
   "execution_count": 17,
   "metadata": {},
   "outputs": [
    {
     "name": "stdout",
     "output_type": "stream",
     "text": [
      "[3, 2, 1]\n"
     ]
    }
   ],
   "source": [
    "#4.une fonction qui prend une liste en entree et renvoie la liste inverse\n",
    "def liste_inversee(liste):    \n",
    "    liste.reverse()\n",
    "    return liste\n",
    "print(liste_inversee([1,2,3]))"
   ]
  },
  {
   "cell_type": "code",
   "execution_count": 18,
   "metadata": {},
   "outputs": [
    {
     "name": "stdout",
     "output_type": "stream",
     "text": [
      "['massamba', 'khalil']\n"
     ]
    }
   ],
   "source": [
    "#5.une liste de noms et affichez les noms qui contiennent la lettre a\n",
    "def noms_contenant_a(liste_noms):\n",
    "    noms_avec_a = [nom for nom in liste_noms if \"a\" in nom.lower()]\n",
    "    return noms_avec_a\n",
    "\n",
    "#exemple d'utilisation\n",
    "liste = [\"massamba\", \"khalil\", \"momine\", \"jules\"]\n",
    "resultat_noms_avec_a = noms_contenant_a(liste)\n",
    "\n",
    "print(resultat_noms_avec_a)"
   ]
  },
  {
   "cell_type": "markdown",
   "metadata": {},
   "source": [
    "# EXERCICE 4"
   ]
  },
  {
   "cell_type": "code",
   "execution_count": 19,
   "metadata": {},
   "outputs": [
    {
     "name": "stdout",
     "output_type": "stream",
     "text": [
      "[2, 7, 5, 7, 2, 8, 9, 8]\n",
      "[2, 5, 7, 8, 9]\n"
     ]
    }
   ],
   "source": [
    "#1.supprimer les doublons d'une liste\n",
    "def supprimer_doublons(liste):\n",
    "    return list(set(liste))\n",
    "liste=[2,7,5,7,2,8,9,8]\n",
    "nouvelle_liste=supprimer_doublons(liste)\n",
    "print(liste)\n",
    "print(nouvelle_liste)"
   ]
  },
  {
   "cell_type": "code",
   "execution_count": 20,
   "metadata": {},
   "outputs": [],
   "source": [
    "#2. creez une foncion qui generer une liste de nombres premiers jusqu'à un nombre donné\n",
    "def nombres_premiers_jusqua(n):\n",
    "    #Initialiser une liste de booléens pour marquer les nombres comme premier ou non\n",
    "    est_premier=[true] (n+1)\n",
    "    est_premier[0]= est_premier[1]= false"
   ]
  },
  {
   "cell_type": "code",
   "execution_count": 22,
   "metadata": {},
   "outputs": [
    {
     "name": "stdout",
     "output_type": "stream",
     "text": [
      "[3, 12, 6, 24]\n"
     ]
    }
   ],
   "source": [
    "#3.utiliser la fonction map pour multiplier chaque element d'une liste par 3\n",
    "liste=[1,4,2,8]\n",
    "resultat=list(map(lambda x:x*3,liste))\n",
    "print(resultat)"
   ]
  },
  {
   "cell_type": "markdown",
   "metadata": {},
   "source": [
    "# EXERCICE 5"
   ]
  },
  {
   "cell_type": "code",
   "execution_count": 23,
   "metadata": {},
   "outputs": [
    {
     "name": "stdout",
     "output_type": "stream",
     "text": [
      "HELLO, comment ça va ?\n",
      "<function frequence_lettres at 0x000001E9AEDE4288> {'h': 3.32075707687605e-22, 'e': 4.009047798750454e-10, 'l': 3.696666777978419e-18, 'o': 3.772850258533278e-14, 'c': 1.7113959935614872e-15, 'm': 1.9051260200326473e-11, 'n': 8.819905157090274e-09, 't': 1.94037913455986e-07, 'ç': 4.268834096031692e-06, 'a': 0.04554845980465815, 'v': 0.002066115702479339}\n"
     ]
    }
   ],
   "source": [
    "def frequence_lettres(texte):\n",
    "    #initialise un dictionnaire pour stocker les frequences\n",
    "    frequence = {}\n",
    "    \n",
    "    #parcourt chaque caractere dans le texte\n",
    "    for caractere in texte:\n",
    "        #verifie si le caractere est une lettre de l'alphabet\n",
    "        if caractere.isalpha():\n",
    "             #convertir le texte en minuscules pour eviter les differences des cas \n",
    "            caractere = caractere.lower()\n",
    "            #incremente la frequence du caractere dans le dictionnaire ou initialise à 1 s'il n'existe pas encore\n",
    "            frequence[caractere] = frequence.get(caractere, 0) + 1\n",
    "            \n",
    "            #normalise les frequences en divisant par la longueur du texte\n",
    "            longueur_texte = len(texte)\n",
    "            for lettre in frequence:\n",
    "                frequence[lettre]/=longueur_texte\n",
    "                \n",
    "    return frequence\n",
    "        \n",
    "#Exemples d'utilisation\n",
    "texte = \"HELLO, comment ça va ?\"\n",
    "resultat = frequence_lettres(texte)\n",
    "print(texte)\n",
    "print(frequence_lettres, resultat)"
   ]
  },
  {
   "cell_type": "code",
   "execution_count": null,
   "metadata": {},
   "outputs": [],
   "source": []
  }
 ],
 "metadata": {
  "kernelspec": {
   "display_name": "Python 3",
   "language": "python",
   "name": "python3"
  },
  "language_info": {
   "codemirror_mode": {
    "name": "ipython",
    "version": 3
   },
   "file_extension": ".py",
   "mimetype": "text/x-python",
   "name": "python",
   "nbconvert_exporter": "python",
   "pygments_lexer": "ipython3",
   "version": "3.7.4"
  }
 },
 "nbformat": 4,
 "nbformat_minor": 2
}
